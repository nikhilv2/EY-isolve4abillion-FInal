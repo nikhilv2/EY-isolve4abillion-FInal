{
  "nbformat": 4,
  "nbformat_minor": 0,
  "metadata": {
    "colab": {
      "name": "VaccineEfficacyModel - Semifinal.ipynb",
      "provenance": [],
      "authorship_tag": "ABX9TyOhoGIOy/QMLNlvUCbsYE/N",
      "include_colab_link": true
    },
    "kernelspec": {
      "name": "python3",
      "display_name": "Python 3"
    }
  },
  "cells": [
    {
      "cell_type": "markdown",
      "metadata": {
        "id": "view-in-github",
        "colab_type": "text"
      },
      "source": [
        "<a href=\"https://colab.research.google.com/github/nikhilv2/EY-isolve4abillion-FInal/blob/main/VaccineEfficacyModel_Semifinal.ipynb\" target=\"_parent\"><img src=\"https://colab.research.google.com/assets/colab-badge.svg\" alt=\"Open In Colab\"/></a>"
      ]
    },
    {
      "cell_type": "code",
      "metadata": {
        "id": "09GikWCXqPEq"
      },
      "source": [
        "### Importing the Required Libraries\r\n",
        "\r\n",
        "import lightgbm\r\n",
        "import numpy as np\r\n",
        "import pandas as pd\r\n",
        "from sklearn.model_selection import train_test_split\r\n",
        "from sklearn.preprocessing import LabelEncoder\r\n",
        "import matplotlib.pyplot as plt"
      ],
      "execution_count": 142,
      "outputs": []
    },
    {
      "cell_type": "code",
      "metadata": {
        "colab": {
          "base_uri": "https://localhost:8080/",
          "height": 309
        },
        "id": "zyBjwMtNcI6f",
        "outputId": "f1a7034a-ba93-4aa9-8e66-88c2a8b1f239"
      },
      "source": [
        "### Reading the Dataset - Vaccinated People\r\n",
        "\r\n",
        "data_one = pd.read_csv(\"/content/DataOutput1 - Vaccine Efficacy.csv\")      # Dataset of Vaccinated People\r\n",
        "\r\n",
        "### Reading the Dataset - Gathered from Vaccinated People\r\n",
        "\r\n",
        "data_two = pd.read_csv(\"/content/DataOutput1 - Vaccine Efficacy.csv\")     # Dataset gathered from Vaccinated people\r\n",
        "data_two.head()"
      ],
      "execution_count": 143,
      "outputs": [
        {
          "output_type": "execute_result",
          "data": {
            "text/html": [
              "<div>\n",
              "<style scoped>\n",
              "    .dataframe tbody tr th:only-of-type {\n",
              "        vertical-align: middle;\n",
              "    }\n",
              "\n",
              "    .dataframe tbody tr th {\n",
              "        vertical-align: top;\n",
              "    }\n",
              "\n",
              "    .dataframe thead th {\n",
              "        text-align: right;\n",
              "    }\n",
              "</style>\n",
              "<table border=\"1\" class=\"dataframe\">\n",
              "  <thead>\n",
              "    <tr style=\"text-align: right;\">\n",
              "      <th></th>\n",
              "      <th>Aadhar Number</th>\n",
              "      <th>Name</th>\n",
              "      <th>District</th>\n",
              "      <th>Male</th>\n",
              "      <th>Female</th>\n",
              "      <th>Others</th>\n",
              "      <th>0-18</th>\n",
              "      <th>19-35</th>\n",
              "      <th>36-50</th>\n",
              "      <th>51-60</th>\n",
              "      <th>60 above</th>\n",
              "      <th>Obese Yes</th>\n",
              "      <th>Obese No</th>\n",
              "      <th>Heart Disease Yes</th>\n",
              "      <th>Heart Diseases No</th>\n",
              "      <th>Lung Problem Yes</th>\n",
              "      <th>Lung Problem No</th>\n",
              "      <th>Muscle Pain</th>\n",
              "      <th>Tiredness</th>\n",
              "      <th>Headache</th>\n",
              "      <th>Mild Allergies</th>\n",
              "      <th>Fever</th>\n",
              "      <th>None</th>\n",
              "      <th>Covid Positive</th>\n",
              "      <th>Covid Negative</th>\n",
              "    </tr>\n",
              "  </thead>\n",
              "  <tbody>\n",
              "    <tr>\n",
              "      <th>0</th>\n",
              "      <td>521452875412</td>\n",
              "      <td>Piyush M</td>\n",
              "      <td>Palakkad</td>\n",
              "      <td>1</td>\n",
              "      <td>0</td>\n",
              "      <td>0</td>\n",
              "      <td>0</td>\n",
              "      <td>0</td>\n",
              "      <td>1</td>\n",
              "      <td>0</td>\n",
              "      <td>0</td>\n",
              "      <td>0</td>\n",
              "      <td>0</td>\n",
              "      <td>0</td>\n",
              "      <td>1</td>\n",
              "      <td>0</td>\n",
              "      <td>1</td>\n",
              "      <td>0</td>\n",
              "      <td>0</td>\n",
              "      <td>1</td>\n",
              "      <td>0</td>\n",
              "      <td>0</td>\n",
              "      <td>0</td>\n",
              "      <td>0</td>\n",
              "      <td>1</td>\n",
              "    </tr>\n",
              "    <tr>\n",
              "      <th>1</th>\n",
              "      <td>548765481065</td>\n",
              "      <td>Jasmine S</td>\n",
              "      <td>Trivandrum</td>\n",
              "      <td>0</td>\n",
              "      <td>1</td>\n",
              "      <td>0</td>\n",
              "      <td>0</td>\n",
              "      <td>1</td>\n",
              "      <td>0</td>\n",
              "      <td>0</td>\n",
              "      <td>0</td>\n",
              "      <td>0</td>\n",
              "      <td>0</td>\n",
              "      <td>0</td>\n",
              "      <td>1</td>\n",
              "      <td>0</td>\n",
              "      <td>1</td>\n",
              "      <td>0</td>\n",
              "      <td>0</td>\n",
              "      <td>1</td>\n",
              "      <td>0</td>\n",
              "      <td>0</td>\n",
              "      <td>0</td>\n",
              "      <td>0</td>\n",
              "      <td>1</td>\n",
              "    </tr>\n",
              "    <tr>\n",
              "      <th>2</th>\n",
              "      <td>665120304795</td>\n",
              "      <td>Sharadha L</td>\n",
              "      <td>Wayanadu</td>\n",
              "      <td>0</td>\n",
              "      <td>1</td>\n",
              "      <td>0</td>\n",
              "      <td>0</td>\n",
              "      <td>0</td>\n",
              "      <td>0</td>\n",
              "      <td>0</td>\n",
              "      <td>1</td>\n",
              "      <td>0</td>\n",
              "      <td>0</td>\n",
              "      <td>0</td>\n",
              "      <td>1</td>\n",
              "      <td>0</td>\n",
              "      <td>1</td>\n",
              "      <td>0</td>\n",
              "      <td>0</td>\n",
              "      <td>0</td>\n",
              "      <td>0</td>\n",
              "      <td>0</td>\n",
              "      <td>1</td>\n",
              "      <td>0</td>\n",
              "      <td>1</td>\n",
              "    </tr>\n",
              "    <tr>\n",
              "      <th>3</th>\n",
              "      <td>402168730915</td>\n",
              "      <td>Sam Rony</td>\n",
              "      <td>Kottayam</td>\n",
              "      <td>1</td>\n",
              "      <td>0</td>\n",
              "      <td>0</td>\n",
              "      <td>0</td>\n",
              "      <td>1</td>\n",
              "      <td>0</td>\n",
              "      <td>0</td>\n",
              "      <td>0</td>\n",
              "      <td>0</td>\n",
              "      <td>0</td>\n",
              "      <td>0</td>\n",
              "      <td>1</td>\n",
              "      <td>0</td>\n",
              "      <td>1</td>\n",
              "      <td>0</td>\n",
              "      <td>0</td>\n",
              "      <td>0</td>\n",
              "      <td>0</td>\n",
              "      <td>0</td>\n",
              "      <td>1</td>\n",
              "      <td>0</td>\n",
              "      <td>1</td>\n",
              "    </tr>\n",
              "    <tr>\n",
              "      <th>4</th>\n",
              "      <td>975410256133</td>\n",
              "      <td>R Kumar</td>\n",
              "      <td>Kasargod</td>\n",
              "      <td>1</td>\n",
              "      <td>0</td>\n",
              "      <td>0</td>\n",
              "      <td>1</td>\n",
              "      <td>0</td>\n",
              "      <td>0</td>\n",
              "      <td>0</td>\n",
              "      <td>0</td>\n",
              "      <td>0</td>\n",
              "      <td>0</td>\n",
              "      <td>0</td>\n",
              "      <td>1</td>\n",
              "      <td>0</td>\n",
              "      <td>1</td>\n",
              "      <td>0</td>\n",
              "      <td>0</td>\n",
              "      <td>0</td>\n",
              "      <td>0</td>\n",
              "      <td>0</td>\n",
              "      <td>1</td>\n",
              "      <td>0</td>\n",
              "      <td>1</td>\n",
              "    </tr>\n",
              "  </tbody>\n",
              "</table>\n",
              "</div>"
            ],
            "text/plain": [
              "   Aadhar Number        Name    District  ...  None  Covid Positive  Covid Negative\n",
              "0   521452875412    Piyush M    Palakkad  ...     0               0               1\n",
              "1   548765481065   Jasmine S  Trivandrum  ...     0               0               1\n",
              "2   665120304795  Sharadha L    Wayanadu  ...     1               0               1\n",
              "3   402168730915    Sam Rony    Kottayam  ...     1               0               1\n",
              "4   975410256133     R Kumar    Kasargod  ...     1               0               1\n",
              "\n",
              "[5 rows x 25 columns]"
            ]
          },
          "metadata": {
            "tags": []
          },
          "execution_count": 143
        }
      ]
    },
    {
      "cell_type": "code",
      "metadata": {
        "colab": {
          "base_uri": "https://localhost:8080/",
          "height": 309
        },
        "id": "WIXCqdHte_qp",
        "outputId": "fd079bba-65a8-4051-c492-b200bea80380"
      },
      "source": [
        "### Merging the Existing Dataset with Gathered Data \r\n",
        "\r\n",
        "data = pd.merge(data_one, data_two, how='outer')\r\n",
        "data.head()"
      ],
      "execution_count": 144,
      "outputs": [
        {
          "output_type": "execute_result",
          "data": {
            "text/html": [
              "<div>\n",
              "<style scoped>\n",
              "    .dataframe tbody tr th:only-of-type {\n",
              "        vertical-align: middle;\n",
              "    }\n",
              "\n",
              "    .dataframe tbody tr th {\n",
              "        vertical-align: top;\n",
              "    }\n",
              "\n",
              "    .dataframe thead th {\n",
              "        text-align: right;\n",
              "    }\n",
              "</style>\n",
              "<table border=\"1\" class=\"dataframe\">\n",
              "  <thead>\n",
              "    <tr style=\"text-align: right;\">\n",
              "      <th></th>\n",
              "      <th>Aadhar Number</th>\n",
              "      <th>Name</th>\n",
              "      <th>District</th>\n",
              "      <th>Male</th>\n",
              "      <th>Female</th>\n",
              "      <th>Others</th>\n",
              "      <th>0-18</th>\n",
              "      <th>19-35</th>\n",
              "      <th>36-50</th>\n",
              "      <th>51-60</th>\n",
              "      <th>60 above</th>\n",
              "      <th>Obese Yes</th>\n",
              "      <th>Obese No</th>\n",
              "      <th>Heart Disease Yes</th>\n",
              "      <th>Heart Diseases No</th>\n",
              "      <th>Lung Problem Yes</th>\n",
              "      <th>Lung Problem No</th>\n",
              "      <th>Muscle Pain</th>\n",
              "      <th>Tiredness</th>\n",
              "      <th>Headache</th>\n",
              "      <th>Mild Allergies</th>\n",
              "      <th>Fever</th>\n",
              "      <th>None</th>\n",
              "      <th>Covid Positive</th>\n",
              "      <th>Covid Negative</th>\n",
              "    </tr>\n",
              "  </thead>\n",
              "  <tbody>\n",
              "    <tr>\n",
              "      <th>0</th>\n",
              "      <td>521452875412</td>\n",
              "      <td>Piyush M</td>\n",
              "      <td>Palakkad</td>\n",
              "      <td>1</td>\n",
              "      <td>0</td>\n",
              "      <td>0</td>\n",
              "      <td>0</td>\n",
              "      <td>0</td>\n",
              "      <td>1</td>\n",
              "      <td>0</td>\n",
              "      <td>0</td>\n",
              "      <td>0</td>\n",
              "      <td>0</td>\n",
              "      <td>0</td>\n",
              "      <td>1</td>\n",
              "      <td>0</td>\n",
              "      <td>1</td>\n",
              "      <td>0</td>\n",
              "      <td>0</td>\n",
              "      <td>1</td>\n",
              "      <td>0</td>\n",
              "      <td>0</td>\n",
              "      <td>0</td>\n",
              "      <td>0</td>\n",
              "      <td>1</td>\n",
              "    </tr>\n",
              "    <tr>\n",
              "      <th>1</th>\n",
              "      <td>548765481065</td>\n",
              "      <td>Jasmine S</td>\n",
              "      <td>Trivandrum</td>\n",
              "      <td>0</td>\n",
              "      <td>1</td>\n",
              "      <td>0</td>\n",
              "      <td>0</td>\n",
              "      <td>1</td>\n",
              "      <td>0</td>\n",
              "      <td>0</td>\n",
              "      <td>0</td>\n",
              "      <td>0</td>\n",
              "      <td>0</td>\n",
              "      <td>0</td>\n",
              "      <td>1</td>\n",
              "      <td>0</td>\n",
              "      <td>1</td>\n",
              "      <td>0</td>\n",
              "      <td>0</td>\n",
              "      <td>1</td>\n",
              "      <td>0</td>\n",
              "      <td>0</td>\n",
              "      <td>0</td>\n",
              "      <td>0</td>\n",
              "      <td>1</td>\n",
              "    </tr>\n",
              "    <tr>\n",
              "      <th>2</th>\n",
              "      <td>665120304795</td>\n",
              "      <td>Sharadha L</td>\n",
              "      <td>Wayanadu</td>\n",
              "      <td>0</td>\n",
              "      <td>1</td>\n",
              "      <td>0</td>\n",
              "      <td>0</td>\n",
              "      <td>0</td>\n",
              "      <td>0</td>\n",
              "      <td>0</td>\n",
              "      <td>1</td>\n",
              "      <td>0</td>\n",
              "      <td>0</td>\n",
              "      <td>0</td>\n",
              "      <td>1</td>\n",
              "      <td>0</td>\n",
              "      <td>1</td>\n",
              "      <td>0</td>\n",
              "      <td>0</td>\n",
              "      <td>0</td>\n",
              "      <td>0</td>\n",
              "      <td>0</td>\n",
              "      <td>1</td>\n",
              "      <td>0</td>\n",
              "      <td>1</td>\n",
              "    </tr>\n",
              "    <tr>\n",
              "      <th>3</th>\n",
              "      <td>402168730915</td>\n",
              "      <td>Sam Rony</td>\n",
              "      <td>Kottayam</td>\n",
              "      <td>1</td>\n",
              "      <td>0</td>\n",
              "      <td>0</td>\n",
              "      <td>0</td>\n",
              "      <td>1</td>\n",
              "      <td>0</td>\n",
              "      <td>0</td>\n",
              "      <td>0</td>\n",
              "      <td>0</td>\n",
              "      <td>0</td>\n",
              "      <td>0</td>\n",
              "      <td>1</td>\n",
              "      <td>0</td>\n",
              "      <td>1</td>\n",
              "      <td>0</td>\n",
              "      <td>0</td>\n",
              "      <td>0</td>\n",
              "      <td>0</td>\n",
              "      <td>0</td>\n",
              "      <td>1</td>\n",
              "      <td>0</td>\n",
              "      <td>1</td>\n",
              "    </tr>\n",
              "    <tr>\n",
              "      <th>4</th>\n",
              "      <td>975410256133</td>\n",
              "      <td>R Kumar</td>\n",
              "      <td>Kasargod</td>\n",
              "      <td>1</td>\n",
              "      <td>0</td>\n",
              "      <td>0</td>\n",
              "      <td>1</td>\n",
              "      <td>0</td>\n",
              "      <td>0</td>\n",
              "      <td>0</td>\n",
              "      <td>0</td>\n",
              "      <td>0</td>\n",
              "      <td>0</td>\n",
              "      <td>0</td>\n",
              "      <td>1</td>\n",
              "      <td>0</td>\n",
              "      <td>1</td>\n",
              "      <td>0</td>\n",
              "      <td>0</td>\n",
              "      <td>0</td>\n",
              "      <td>0</td>\n",
              "      <td>0</td>\n",
              "      <td>1</td>\n",
              "      <td>0</td>\n",
              "      <td>1</td>\n",
              "    </tr>\n",
              "  </tbody>\n",
              "</table>\n",
              "</div>"
            ],
            "text/plain": [
              "   Aadhar Number        Name    District  ...  None  Covid Positive  Covid Negative\n",
              "0   521452875412    Piyush M    Palakkad  ...     0               0               1\n",
              "1   548765481065   Jasmine S  Trivandrum  ...     0               0               1\n",
              "2   665120304795  Sharadha L    Wayanadu  ...     1               0               1\n",
              "3   402168730915    Sam Rony    Kottayam  ...     1               0               1\n",
              "4   975410256133     R Kumar    Kasargod  ...     1               0               1\n",
              "\n",
              "[5 rows x 25 columns]"
            ]
          },
          "metadata": {
            "tags": []
          },
          "execution_count": 144
        }
      ]
    },
    {
      "cell_type": "code",
      "metadata": {
        "colab": {
          "base_uri": "https://localhost:8080/",
          "height": 309
        },
        "id": "yXbPSkDOf_hK",
        "outputId": "c56735fe-739d-41e8-8981-d9e7f895baf4"
      },
      "source": [
        "### Filling in null values with zero\r\n",
        "\r\n",
        "data = data.fillna(0)\r\n",
        "data = data.astype({\"Male\":'int', \"Female\":'int', \"Others\":\"int\", \"0-18\":\"int\", \"19-35\":\"int\",\"36-50\":\"int\", \"51-60\":\"int\", \"60 above\":\"int\",\r\n",
        "                    \"Obese Yes\":\"int\", \"Obese No\":\"int\", \"Heart Disease Yes\":\"int\", \"Heart Diseases No\":\"int\", \"Lung Problem Yes\":\"int\", \"Lung Problem No\":\"int\",\r\n",
        "                    \"Muscle Pain\":\"int\", \"Tiredness\":\"int\", \"Headache\":'int', \"Mild Allergies\":\"int\", \"Fever\":\"int\", \"None\":\"int\",\r\n",
        "                    \"Covid Positive\":\"int\", \"Covid Negative\":\"int\"})\r\n",
        "data.head()"
      ],
      "execution_count": 145,
      "outputs": [
        {
          "output_type": "execute_result",
          "data": {
            "text/html": [
              "<div>\n",
              "<style scoped>\n",
              "    .dataframe tbody tr th:only-of-type {\n",
              "        vertical-align: middle;\n",
              "    }\n",
              "\n",
              "    .dataframe tbody tr th {\n",
              "        vertical-align: top;\n",
              "    }\n",
              "\n",
              "    .dataframe thead th {\n",
              "        text-align: right;\n",
              "    }\n",
              "</style>\n",
              "<table border=\"1\" class=\"dataframe\">\n",
              "  <thead>\n",
              "    <tr style=\"text-align: right;\">\n",
              "      <th></th>\n",
              "      <th>Aadhar Number</th>\n",
              "      <th>Name</th>\n",
              "      <th>District</th>\n",
              "      <th>Male</th>\n",
              "      <th>Female</th>\n",
              "      <th>Others</th>\n",
              "      <th>0-18</th>\n",
              "      <th>19-35</th>\n",
              "      <th>36-50</th>\n",
              "      <th>51-60</th>\n",
              "      <th>60 above</th>\n",
              "      <th>Obese Yes</th>\n",
              "      <th>Obese No</th>\n",
              "      <th>Heart Disease Yes</th>\n",
              "      <th>Heart Diseases No</th>\n",
              "      <th>Lung Problem Yes</th>\n",
              "      <th>Lung Problem No</th>\n",
              "      <th>Muscle Pain</th>\n",
              "      <th>Tiredness</th>\n",
              "      <th>Headache</th>\n",
              "      <th>Mild Allergies</th>\n",
              "      <th>Fever</th>\n",
              "      <th>None</th>\n",
              "      <th>Covid Positive</th>\n",
              "      <th>Covid Negative</th>\n",
              "    </tr>\n",
              "  </thead>\n",
              "  <tbody>\n",
              "    <tr>\n",
              "      <th>0</th>\n",
              "      <td>521452875412</td>\n",
              "      <td>Piyush M</td>\n",
              "      <td>Palakkad</td>\n",
              "      <td>1</td>\n",
              "      <td>0</td>\n",
              "      <td>0</td>\n",
              "      <td>0</td>\n",
              "      <td>0</td>\n",
              "      <td>1</td>\n",
              "      <td>0</td>\n",
              "      <td>0</td>\n",
              "      <td>0</td>\n",
              "      <td>0</td>\n",
              "      <td>0</td>\n",
              "      <td>1</td>\n",
              "      <td>0</td>\n",
              "      <td>1</td>\n",
              "      <td>0</td>\n",
              "      <td>0</td>\n",
              "      <td>1</td>\n",
              "      <td>0</td>\n",
              "      <td>0</td>\n",
              "      <td>0</td>\n",
              "      <td>0</td>\n",
              "      <td>1</td>\n",
              "    </tr>\n",
              "    <tr>\n",
              "      <th>1</th>\n",
              "      <td>548765481065</td>\n",
              "      <td>Jasmine S</td>\n",
              "      <td>Trivandrum</td>\n",
              "      <td>0</td>\n",
              "      <td>1</td>\n",
              "      <td>0</td>\n",
              "      <td>0</td>\n",
              "      <td>1</td>\n",
              "      <td>0</td>\n",
              "      <td>0</td>\n",
              "      <td>0</td>\n",
              "      <td>0</td>\n",
              "      <td>0</td>\n",
              "      <td>0</td>\n",
              "      <td>1</td>\n",
              "      <td>0</td>\n",
              "      <td>1</td>\n",
              "      <td>0</td>\n",
              "      <td>0</td>\n",
              "      <td>1</td>\n",
              "      <td>0</td>\n",
              "      <td>0</td>\n",
              "      <td>0</td>\n",
              "      <td>0</td>\n",
              "      <td>1</td>\n",
              "    </tr>\n",
              "    <tr>\n",
              "      <th>2</th>\n",
              "      <td>665120304795</td>\n",
              "      <td>Sharadha L</td>\n",
              "      <td>Wayanadu</td>\n",
              "      <td>0</td>\n",
              "      <td>1</td>\n",
              "      <td>0</td>\n",
              "      <td>0</td>\n",
              "      <td>0</td>\n",
              "      <td>0</td>\n",
              "      <td>0</td>\n",
              "      <td>1</td>\n",
              "      <td>0</td>\n",
              "      <td>0</td>\n",
              "      <td>0</td>\n",
              "      <td>1</td>\n",
              "      <td>0</td>\n",
              "      <td>1</td>\n",
              "      <td>0</td>\n",
              "      <td>0</td>\n",
              "      <td>0</td>\n",
              "      <td>0</td>\n",
              "      <td>0</td>\n",
              "      <td>1</td>\n",
              "      <td>0</td>\n",
              "      <td>1</td>\n",
              "    </tr>\n",
              "    <tr>\n",
              "      <th>3</th>\n",
              "      <td>402168730915</td>\n",
              "      <td>Sam Rony</td>\n",
              "      <td>Kottayam</td>\n",
              "      <td>1</td>\n",
              "      <td>0</td>\n",
              "      <td>0</td>\n",
              "      <td>0</td>\n",
              "      <td>1</td>\n",
              "      <td>0</td>\n",
              "      <td>0</td>\n",
              "      <td>0</td>\n",
              "      <td>0</td>\n",
              "      <td>0</td>\n",
              "      <td>0</td>\n",
              "      <td>1</td>\n",
              "      <td>0</td>\n",
              "      <td>1</td>\n",
              "      <td>0</td>\n",
              "      <td>0</td>\n",
              "      <td>0</td>\n",
              "      <td>0</td>\n",
              "      <td>0</td>\n",
              "      <td>1</td>\n",
              "      <td>0</td>\n",
              "      <td>1</td>\n",
              "    </tr>\n",
              "    <tr>\n",
              "      <th>4</th>\n",
              "      <td>975410256133</td>\n",
              "      <td>R Kumar</td>\n",
              "      <td>Kasargod</td>\n",
              "      <td>1</td>\n",
              "      <td>0</td>\n",
              "      <td>0</td>\n",
              "      <td>1</td>\n",
              "      <td>0</td>\n",
              "      <td>0</td>\n",
              "      <td>0</td>\n",
              "      <td>0</td>\n",
              "      <td>0</td>\n",
              "      <td>0</td>\n",
              "      <td>0</td>\n",
              "      <td>1</td>\n",
              "      <td>0</td>\n",
              "      <td>1</td>\n",
              "      <td>0</td>\n",
              "      <td>0</td>\n",
              "      <td>0</td>\n",
              "      <td>0</td>\n",
              "      <td>0</td>\n",
              "      <td>1</td>\n",
              "      <td>0</td>\n",
              "      <td>1</td>\n",
              "    </tr>\n",
              "  </tbody>\n",
              "</table>\n",
              "</div>"
            ],
            "text/plain": [
              "   Aadhar Number        Name    District  ...  None  Covid Positive  Covid Negative\n",
              "0   521452875412    Piyush M    Palakkad  ...     0               0               1\n",
              "1   548765481065   Jasmine S  Trivandrum  ...     0               0               1\n",
              "2   665120304795  Sharadha L    Wayanadu  ...     1               0               1\n",
              "3   402168730915    Sam Rony    Kottayam  ...     1               0               1\n",
              "4   975410256133     R Kumar    Kasargod  ...     1               0               1\n",
              "\n",
              "[5 rows x 25 columns]"
            ]
          },
          "metadata": {
            "tags": []
          },
          "execution_count": 145
        }
      ]
    },
    {
      "cell_type": "code",
      "metadata": {
        "colab": {
          "base_uri": "https://localhost:8080/",
          "height": 204
        },
        "id": "JmOtl8-AgonD",
        "outputId": "64f6bc7f-2364-41dd-823d-cb57b88505e1"
      },
      "source": [
        "### Separating the Dataset to Features and Targets\r\n",
        "\r\n",
        "y = data.iloc[:, [23]]\r\n",
        "x = data.iloc[:, [3,4,5,6,7,8,9,10,11,13,15,17,18,19,20,21,22]]\r\n",
        "y.head()"
      ],
      "execution_count": 146,
      "outputs": [
        {
          "output_type": "execute_result",
          "data": {
            "text/html": [
              "<div>\n",
              "<style scoped>\n",
              "    .dataframe tbody tr th:only-of-type {\n",
              "        vertical-align: middle;\n",
              "    }\n",
              "\n",
              "    .dataframe tbody tr th {\n",
              "        vertical-align: top;\n",
              "    }\n",
              "\n",
              "    .dataframe thead th {\n",
              "        text-align: right;\n",
              "    }\n",
              "</style>\n",
              "<table border=\"1\" class=\"dataframe\">\n",
              "  <thead>\n",
              "    <tr style=\"text-align: right;\">\n",
              "      <th></th>\n",
              "      <th>Covid Positive</th>\n",
              "    </tr>\n",
              "  </thead>\n",
              "  <tbody>\n",
              "    <tr>\n",
              "      <th>0</th>\n",
              "      <td>0</td>\n",
              "    </tr>\n",
              "    <tr>\n",
              "      <th>1</th>\n",
              "      <td>0</td>\n",
              "    </tr>\n",
              "    <tr>\n",
              "      <th>2</th>\n",
              "      <td>0</td>\n",
              "    </tr>\n",
              "    <tr>\n",
              "      <th>3</th>\n",
              "      <td>0</td>\n",
              "    </tr>\n",
              "    <tr>\n",
              "      <th>4</th>\n",
              "      <td>0</td>\n",
              "    </tr>\n",
              "  </tbody>\n",
              "</table>\n",
              "</div>"
            ],
            "text/plain": [
              "   Covid Positive\n",
              "0               0\n",
              "1               0\n",
              "2               0\n",
              "3               0\n",
              "4               0"
            ]
          },
          "metadata": {
            "tags": []
          },
          "execution_count": 146
        }
      ]
    },
    {
      "cell_type": "code",
      "metadata": {
        "id": "nqSOyqAxpzJe"
      },
      "source": [
        "### Splitting into Train and Test Sets\r\n",
        "\r\n",
        "xtrain, xtest, ytrain, ytest = train_test_split(x, y, train_size=0.85, random_state = 0)"
      ],
      "execution_count": 147,
      "outputs": []
    },
    {
      "cell_type": "code",
      "metadata": {
        "colab": {
          "base_uri": "https://localhost:8080/"
        },
        "id": "Qc-7_VvVp76K",
        "outputId": "1693b766-5ebd-45f7-b036-9a20a306d034"
      },
      "source": [
        "### Buliding the model\r\n",
        "\r\n",
        "import lightgbm as ltb\r\n",
        "model = ltb.LGBMClassifier(learning_rate = 7)\r\n",
        "model = model.fit(xtrain, ytrain)\r\n",
        "print(model)"
      ],
      "execution_count": 148,
      "outputs": [
        {
          "output_type": "stream",
          "text": [
            "LGBMClassifier(boosting_type='gbdt', class_weight=None, colsample_bytree=1.0,\n",
            "               importance_type='split', learning_rate=7, max_depth=-1,\n",
            "               min_child_samples=20, min_child_weight=0.001, min_split_gain=0.0,\n",
            "               n_estimators=100, n_jobs=-1, num_leaves=31, objective=None,\n",
            "               random_state=None, reg_alpha=0.0, reg_lambda=0.0, silent=True,\n",
            "               subsample=1.0, subsample_for_bin=200000, subsample_freq=0)\n"
          ],
          "name": "stdout"
        },
        {
          "output_type": "stream",
          "text": [
            "/usr/local/lib/python3.6/dist-packages/sklearn/preprocessing/_label.py:235: DataConversionWarning: A column-vector y was passed when a 1d array was expected. Please change the shape of y to (n_samples, ), for example using ravel().\n",
            "  y = column_or_1d(y, warn=True)\n",
            "/usr/local/lib/python3.6/dist-packages/sklearn/preprocessing/_label.py:268: DataConversionWarning: A column-vector y was passed when a 1d array was expected. Please change the shape of y to (n_samples, ), for example using ravel().\n",
            "  y = column_or_1d(y, warn=True)\n"
          ],
          "name": "stderr"
        }
      ]
    },
    {
      "cell_type": "code",
      "metadata": {
        "colab": {
          "base_uri": "https://localhost:8080/"
        },
        "id": "H0V4VW_VqAeb",
        "outputId": "c34572ce-3949-4891-f58e-5c486422ed16"
      },
      "source": [
        "### Predicting the Model\r\n",
        "\r\n",
        "ypred = model.predict(xtest)\r\n",
        "ypred"
      ],
      "execution_count": 149,
      "outputs": [
        {
          "output_type": "execute_result",
          "data": {
            "text/plain": [
              "array([0, 1, 1, 0, 0, 0, 0, 1, 0, 1, 1, 0, 0, 0, 0])"
            ]
          },
          "metadata": {
            "tags": []
          },
          "execution_count": 149
        }
      ]
    },
    {
      "cell_type": "code",
      "metadata": {
        "colab": {
          "base_uri": "https://localhost:8080/"
        },
        "id": "i2sJgD3qqFjt",
        "outputId": "0b593116-6b92-420f-f725-2cb99f51e7f4"
      },
      "source": [
        "### Using confusion matrix\r\n",
        "\r\n",
        "from sklearn.metrics import confusion_matrix\r\n",
        "cm = confusion_matrix(ytest, ypred)\r\n",
        "cm"
      ],
      "execution_count": 150,
      "outputs": [
        {
          "output_type": "execute_result",
          "data": {
            "text/plain": [
              "array([[10,  2],\n",
              "       [ 0,  3]])"
            ]
          },
          "metadata": {
            "tags": []
          },
          "execution_count": 150
        }
      ]
    },
    {
      "cell_type": "code",
      "metadata": {
        "colab": {
          "base_uri": "https://localhost:8080/"
        },
        "id": "3Bz2y2wXqIuo",
        "outputId": "91219814-f1bc-48b5-f99c-f997ecc0522b"
      },
      "source": [
        "### Predicting acccuracy\r\n",
        "\r\n",
        "from sklearn.metrics import accuracy_score\r\n",
        "accuracy = accuracy_score(ytest, ypred)\r\n",
        "accuracy"
      ],
      "execution_count": 151,
      "outputs": [
        {
          "output_type": "execute_result",
          "data": {
            "text/plain": [
              "0.8666666666666667"
            ]
          },
          "metadata": {
            "tags": []
          },
          "execution_count": 151
        }
      ]
    },
    {
      "cell_type": "code",
      "metadata": {
        "colab": {
          "base_uri": "https://localhost:8080/"
        },
        "id": "WRBOb9A-qOSu",
        "outputId": "7e707669-2cf1-4a98-80ef-3eab302dcffe"
      },
      "source": [
        "### Obtaining the Learning Rate with best Accuracy\r\n",
        "accuracy =[]\r\n",
        "k_value = []\r\n",
        "for k in range(100):\r\n",
        "  if k%2 != 0:\r\n",
        "    model = ltb.LGBMClassifier(learning_rate=k)\r\n",
        "    model.fit(xtrain, ytrain) \r\n",
        "    ypred = model.predict(xtest)\r\n",
        "    accu = accuracy_score(ytest, ypred)\r\n",
        "    accuracy.append(accu)\r\n",
        "    k_value.append(k)"
      ],
      "execution_count": 152,
      "outputs": [
        {
          "output_type": "stream",
          "text": [
            "/usr/local/lib/python3.6/dist-packages/sklearn/preprocessing/_label.py:235: DataConversionWarning: A column-vector y was passed when a 1d array was expected. Please change the shape of y to (n_samples, ), for example using ravel().\n",
            "  y = column_or_1d(y, warn=True)\n",
            "/usr/local/lib/python3.6/dist-packages/sklearn/preprocessing/_label.py:268: DataConversionWarning: A column-vector y was passed when a 1d array was expected. Please change the shape of y to (n_samples, ), for example using ravel().\n",
            "  y = column_or_1d(y, warn=True)\n"
          ],
          "name": "stderr"
        }
      ]
    },
    {
      "cell_type": "code",
      "metadata": {
        "colab": {
          "base_uri": "https://localhost:8080/",
          "height": 295
        },
        "id": "8bwPNA2_qSXU",
        "outputId": "a394c0f9-0032-4865-9e0d-34179e90b47d"
      },
      "source": [
        "### Plotting accuracy values\r\n",
        "\r\n",
        "import matplotlib.pyplot as plt\r\n",
        "plt.xlabel('Learning Rate')\r\n",
        "plt.ylabel('Accuracy')\r\n",
        "plt.title('Accuracy v/s Learning Rate')\r\n",
        "plt.plot(k_value, accuracy)\r\n",
        "plt.show()"
      ],
      "execution_count": 153,
      "outputs": [
        {
          "output_type": "display_data",
          "data": {
            "image/png": "[encoded data removed]",
            "text/plain": [
              "<Figure size 432x288 with 1 Axes>"
            ]
          },
          "metadata": {
            "tags": [],
            "needs_background": "light"
          }
        }
      ]
    },
    {
      "cell_type": "code",
      "metadata": {
        "colab": {
          "base_uri": "https://localhost:8080/"
        },
        "id": "f0v-WmixqWFr",
        "outputId": "cec3a5fc-64b2-41f2-d6e4-105fcdf2c0f9"
      },
      "source": [
        "### Calculating Efficacy\r\n",
        "\r\n",
        "covid_test = y.groupby('Covid Positive')\r\n",
        "covid_negative_group = covid_test.get_group(0)\r\n",
        "covid_positive_group = covid_test.get_group(1)\r\n",
        "efficacy = len(covid_negative_group)/len(y)*100\r\n",
        "print('Efficacy in Kerala:',efficacy,'%')"
      ],
      "execution_count": 154,
      "outputs": [
        {
          "output_type": "stream",
          "text": [
            "Efficacy in Kerala: 82.82828282828282 %\n"
          ],
          "name": "stdout"
        }
      ]
    },
    {
      "cell_type": "code",
      "metadata": {
        "id": "NSq5WauyqlSW"
      },
      "source": [
        "### Predicting the Test Result by giving inputs\r\n",
        "\r\n",
        "def expected_result():\r\n",
        "  gender_m = input(\"Male:\")\r\n",
        "  gender_f = input(\"Female:\")\r\n",
        "  gender_o = input(\"Others:\")\r\n",
        "  age_18 = input(\"0-18:\")\r\n",
        "  age_35 = input(\"19-35:\")\r\n",
        "  age_50 = input(\"36-50:\")\r\n",
        "  age_60 = input(\"51-60:\")\r\n",
        "  age_old = input(\"60 Above:\")\r\n",
        "  obese = input(\"Obese: \")\r\n",
        "  heart = input(\"Heart Disease: \")\r\n",
        "  lung = input(\"Lung Problems: \")\r\n",
        "  muscle_pain = input(\"Muscle Pain: \")\r\n",
        "  tired = input(\"Tiredness: \")\r\n",
        "  headache = input(\"Headache: \")\r\n",
        "  mild_allergies = input(\"Mild Allergies: \")\r\n",
        "  fever = input(\"Fever: \")\r\n",
        "  none = input(\"None: \")\r\n",
        "  \r\n",
        "  result=model.predict([[gender_m, gender_f, gender_o, age_18, age_35, age_50, age_60, age_old, obese, heart,\r\n",
        "                         lung, muscle_pain, tired, headache, none, fever, mild_allergies]])\r\n",
        "  if result==0:\r\n",
        "    print(\"The expected result will be negative.\")\r\n",
        "  else:\r\n",
        "    print(\"The expected result will be positive.\")  "
      ],
      "execution_count": 155,
      "outputs": []
    },
    {
      "cell_type": "code",
      "metadata": {
        "colab": {
          "base_uri": "https://localhost:8080/"
        },
        "id": "vlObkbCQskQC",
        "outputId": "e42bf5fd-3c66-49d1-c14d-4865729faec2"
      },
      "source": [
        "expected_result()"
      ],
      "execution_count": 156,
      "outputs": [
        {
          "output_type": "stream",
          "text": [
            "Male:0\n",
            "Female:1\n",
            "Others:0\n",
            "0-18:0\n",
            "19-35:0\n",
            "36-50:1\n",
            "51-60:0\n",
            "60 Above:0\n",
            "Obese: 0\n",
            "Heart Disease: 1\n",
            "Lung Problems: 1\n",
            "Muscle Pain: 0\n",
            "Tiredness: 0\n",
            "Headache: 0\n",
            "Mild Allergies: 0\n",
            "Fever: 1\n",
            "None: 0\n",
            "The expected result will be negative.\n"
          ],
          "name": "stdout"
        },
        {
          "output_type": "stream",
          "text": [
            "/usr/local/lib/python3.6/dist-packages/lightgbm/sklearn.py:599: FutureWarning: Beginning in version 0.22, arrays of bytes/strings will be converted to decimal numbers if dtype='numeric'. It is recommended that you convert the array to a float dtype before using it in scikit-learn, for example by using your_array = your_array.astype(np.float64).\n",
            "  X = _LGBMCheckArray(X, accept_sparse=True, force_all_finite=False)\n"
          ],
          "name": "stderr"
        }
      ]
    },
    {
      "cell_type": "code",
      "metadata": {
        "colab": {
          "base_uri": "https://localhost:8080/"
        },
        "id": "ZyZkgnyEsl9T",
        "outputId": "920370a7-9ac0-4998-e8b4-f8fa7042672e"
      },
      "source": [
        "### Dataframe with Preprocessed data of District\r\n",
        "\r\n",
        "district_df = pd.DataFrame()\r\n",
        "z = data.iloc[:, [3]]\r\n",
        "district_df['District'] = data['District']\r\n",
        "district_df['Preprocessed Value'] = z.apply(LabelEncoder().fit_transform)\r\n",
        "district_df['Covid Positive'] = data['Covid Positive']\r\n",
        "district_df.drop_duplicates()\r\n",
        "\r\n",
        "### Obtaining Preprocessed Value by giving district as input\r\n",
        "\r\n",
        "region = input()\r\n",
        "m = district_df[district_df['District']==a]['Preprocessed Value'].values\r\n",
        "b = m.tolist()\r\n",
        "for i in b:\r\n",
        "  district_data = i\r\n",
        "o = int(district_data)\r\n",
        "o"
      ],
      "execution_count": 157,
      "outputs": [
        {
          "output_type": "stream",
          "text": [
            "Kollam\n"
          ],
          "name": "stdout"
        },
        {
          "output_type": "execute_result",
          "data": {
            "text/plain": [
              "1"
            ]
          },
          "metadata": {
            "tags": []
          },
          "execution_count": 157
        }
      ]
    },
    {
      "cell_type": "code",
      "metadata": {
        "colab": {
          "base_uri": "https://localhost:8080/"
        },
        "id": "rNQN5cRJ60Oq",
        "outputId": "ee603b9d-254d-43ab-d387-a29d8dd23a36"
      },
      "source": [
        "### Calculating Vaccine Efficacy in any Region\r\n",
        "\r\n",
        "area = district_df.groupby('Preprocessed Value')\r\n",
        "\r\n",
        "kollam_covid = area.get_group(o)                                        #Corresponding preprocessed value can be entered to obtain Efficacy in each Region\r\n",
        "\r\n",
        "kollam_covid_data = kollam_covid.groupby('Covid Positive')\r\n",
        "\r\n",
        "kollam_covid_negative = kollam_covid_data.get_group(0)\r\n",
        "\r\n",
        "efficacy_region = len(kollam_covid_negative)/len(kollam_covid)*100\r\n",
        "\r\n",
        "print('Efficacy in', region, ':',efficacy_region,'%' )"
      ],
      "execution_count": 158,
      "outputs": [
        {
          "output_type": "stream",
          "text": [
            "Efficacy in Kollam : 80.76923076923077 %\n"
          ],
          "name": "stdout"
        }
      ]
    },
    {
      "cell_type": "code",
      "metadata": {
        "colab": {
          "base_uri": "https://localhost:8080/",
          "height": 80
        },
        "id": "R8H6ixAJJaco",
        "outputId": "168594c0-4c39-4b49-f926-b629a8a44391"
      },
      "source": [
        "### Accessing missing data\r\n",
        "missing_data = pd.DataFrame()\r\n",
        "missing_data = data.loc[(data['Covid Negative'] == 0) & (data['Covid Positive']==0)]\r\n",
        "missing_data.iloc[:, [0,1,2]]"
      ],
      "execution_count": 159,
      "outputs": [
        {
          "output_type": "execute_result",
          "data": {
            "text/html": [
              "<div>\n",
              "<style scoped>\n",
              "    .dataframe tbody tr th:only-of-type {\n",
              "        vertical-align: middle;\n",
              "    }\n",
              "\n",
              "    .dataframe tbody tr th {\n",
              "        vertical-align: top;\n",
              "    }\n",
              "\n",
              "    .dataframe thead th {\n",
              "        text-align: right;\n",
              "    }\n",
              "</style>\n",
              "<table border=\"1\" class=\"dataframe\">\n",
              "  <thead>\n",
              "    <tr style=\"text-align: right;\">\n",
              "      <th></th>\n",
              "      <th>Aadhar Number</th>\n",
              "      <th>Name</th>\n",
              "      <th>District</th>\n",
              "    </tr>\n",
              "  </thead>\n",
              "  <tbody>\n",
              "    <tr>\n",
              "      <th>45</th>\n",
              "      <td>496842384902</td>\n",
              "      <td>Akshay R</td>\n",
              "      <td>Pathanamthitta</td>\n",
              "    </tr>\n",
              "  </tbody>\n",
              "</table>\n",
              "</div>"
            ],
            "text/plain": [
              "    Aadhar Number      Name        District\n",
              "45   496842384902  Akshay R  Pathanamthitta"
            ]
          },
          "metadata": {
            "tags": []
          },
          "execution_count": 159
        }
      ]
    },
    {
      "cell_type": "code",
      "metadata": {
        "id": "pxT60HVjgMM6"
      },
      "source": [
        ""
      ],
      "execution_count": null,
      "outputs": []
    }
  ]
}